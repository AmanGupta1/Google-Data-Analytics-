{
 "cells": [
  {
   "cell_type": "code",
   "execution_count": 1,
   "metadata": {},
   "outputs": [],
   "source": [
    "import pandas as pd\n",
    "import matplotlib.pyplot as plt\n",
    "import numpy as np"
   ]
  },
  {
   "cell_type": "code",
   "execution_count": 2,
   "metadata": {},
   "outputs": [],
   "source": [
    "task_1=pd.read_csv('/home/sarthak/Downloads/combinejob.csv')"
   ]
  },
  {
   "cell_type": "code",
   "execution_count": null,
   "metadata": {},
   "outputs": [],
   "source": []
  },
  {
   "cell_type": "code",
   "execution_count": null,
   "metadata": {},
   "outputs": [],
   "source": []
  },
  {
   "cell_type": "code",
   "execution_count": null,
   "metadata": {},
   "outputs": [],
   "source": []
  },
  {
   "cell_type": "code",
   "execution_count": 3,
   "metadata": {},
   "outputs": [
    {
     "data": {
      "text/html": [
       "<div>\n",
       "<style scoped>\n",
       "    .dataframe tbody tr th:only-of-type {\n",
       "        vertical-align: middle;\n",
       "    }\n",
       "\n",
       "    .dataframe tbody tr th {\n",
       "        vertical-align: top;\n",
       "    }\n",
       "\n",
       "    .dataframe thead th {\n",
       "        text-align: right;\n",
       "    }\n",
       "</style>\n",
       "<table border=\"1\" class=\"dataframe\">\n",
       "  <thead>\n",
       "    <tr style=\"text-align: right;\">\n",
       "      <th></th>\n",
       "      <th>Unnamed: 0</th>\n",
       "      <th>timestamp</th>\n",
       "      <th>missing info</th>\n",
       "      <th>job ID</th>\n",
       "      <th>event type</th>\n",
       "      <th>user name</th>\n",
       "      <th>scheduling class</th>\n",
       "      <th>job name</th>\n",
       "      <th>logical job name</th>\n",
       "    </tr>\n",
       "  </thead>\n",
       "  <tbody>\n",
       "    <tr>\n",
       "      <th>0</th>\n",
       "      <td>0</td>\n",
       "      <td>2501193134619</td>\n",
       "      <td>NaN</td>\n",
       "      <td>6486215608</td>\n",
       "      <td>0</td>\n",
       "      <td>r/Al6kYJOwZITr6wi4pAlEwyGv5TM2EkJ8woA5hszeA=</td>\n",
       "      <td>0</td>\n",
       "      <td>r5eyJ1a8/eGgOLNBwt3N6TFxHziyP6GnFzPk0hvsVfo=</td>\n",
       "      <td>QdrSScSXyIpoqR4skT9QFLlVShlxNDTFRBhIWZRq2SM=</td>\n",
       "    </tr>\n",
       "    <tr>\n",
       "      <th>1</th>\n",
       "      <td>1</td>\n",
       "      <td>2501193139038</td>\n",
       "      <td>NaN</td>\n",
       "      <td>6486215672</td>\n",
       "      <td>0</td>\n",
       "      <td>fJeARInTaIjFrdXGqxap6x2T3TpJB84y9zvFsoGGhjk=</td>\n",
       "      <td>2</td>\n",
       "      <td>Xp4Fag7ix7xAtR7LnOa8xFxqoSUr7Xt19T9OSnKmjhE=</td>\n",
       "      <td>azrDmMUllbmKwthWNxfpqUWO4UEd8r0NMc95j5tNaFA=</td>\n",
       "    </tr>\n",
       "    <tr>\n",
       "      <th>2</th>\n",
       "      <td>2</td>\n",
       "      <td>2501193144324</td>\n",
       "      <td>NaN</td>\n",
       "      <td>6486215873</td>\n",
       "      <td>0</td>\n",
       "      <td>fJeARInTaIjFrdXGqxap6x2T3TpJB84y9zvFsoGGhjk=</td>\n",
       "      <td>2</td>\n",
       "      <td>VRFhUGhyqS72Q/qeBvOJajacSFff03rZe175EeyNIwA=</td>\n",
       "      <td>azrDmMUllbmKwthWNxfpqUWO4UEd8r0NMc95j5tNaFA=</td>\n",
       "    </tr>\n",
       "    <tr>\n",
       "      <th>3</th>\n",
       "      <td>3</td>\n",
       "      <td>2501194223662</td>\n",
       "      <td>NaN</td>\n",
       "      <td>6486215672</td>\n",
       "      <td>1</td>\n",
       "      <td>fJeARInTaIjFrdXGqxap6x2T3TpJB84y9zvFsoGGhjk=</td>\n",
       "      <td>2</td>\n",
       "      <td>Xp4Fag7ix7xAtR7LnOa8xFxqoSUr7Xt19T9OSnKmjhE=</td>\n",
       "      <td>azrDmMUllbmKwthWNxfpqUWO4UEd8r0NMc95j5tNaFA=</td>\n",
       "    </tr>\n",
       "    <tr>\n",
       "      <th>4</th>\n",
       "      <td>4</td>\n",
       "      <td>2501194223666</td>\n",
       "      <td>NaN</td>\n",
       "      <td>6486215721</td>\n",
       "      <td>0</td>\n",
       "      <td>fJeARInTaIjFrdXGqxap6x2T3TpJB84y9zvFsoGGhjk=</td>\n",
       "      <td>0</td>\n",
       "      <td>NonpGGuq496VNdEpSwKjq9zA+s2UMnfcGGq8C9GMuwM=</td>\n",
       "      <td>cUdjbM2RJcB7/4KX3NdHpQnyyDtBq4l5+rAK3SWjpPw=</td>\n",
       "    </tr>\n",
       "  </tbody>\n",
       "</table>\n",
       "</div>"
      ],
      "text/plain": [
       "   Unnamed: 0      timestamp  missing info      job ID  event type  \\\n",
       "0           0  2501193134619           NaN  6486215608           0   \n",
       "1           1  2501193139038           NaN  6486215672           0   \n",
       "2           2  2501193144324           NaN  6486215873           0   \n",
       "3           3  2501194223662           NaN  6486215672           1   \n",
       "4           4  2501194223666           NaN  6486215721           0   \n",
       "\n",
       "                                      user name  scheduling class  \\\n",
       "0  r/Al6kYJOwZITr6wi4pAlEwyGv5TM2EkJ8woA5hszeA=                 0   \n",
       "1  fJeARInTaIjFrdXGqxap6x2T3TpJB84y9zvFsoGGhjk=                 2   \n",
       "2  fJeARInTaIjFrdXGqxap6x2T3TpJB84y9zvFsoGGhjk=                 2   \n",
       "3  fJeARInTaIjFrdXGqxap6x2T3TpJB84y9zvFsoGGhjk=                 2   \n",
       "4  fJeARInTaIjFrdXGqxap6x2T3TpJB84y9zvFsoGGhjk=                 0   \n",
       "\n",
       "                                       job name  \\\n",
       "0  r5eyJ1a8/eGgOLNBwt3N6TFxHziyP6GnFzPk0hvsVfo=   \n",
       "1  Xp4Fag7ix7xAtR7LnOa8xFxqoSUr7Xt19T9OSnKmjhE=   \n",
       "2  VRFhUGhyqS72Q/qeBvOJajacSFff03rZe175EeyNIwA=   \n",
       "3  Xp4Fag7ix7xAtR7LnOa8xFxqoSUr7Xt19T9OSnKmjhE=   \n",
       "4  NonpGGuq496VNdEpSwKjq9zA+s2UMnfcGGq8C9GMuwM=   \n",
       "\n",
       "                               logical job name  \n",
       "0  QdrSScSXyIpoqR4skT9QFLlVShlxNDTFRBhIWZRq2SM=  \n",
       "1  azrDmMUllbmKwthWNxfpqUWO4UEd8r0NMc95j5tNaFA=  \n",
       "2  azrDmMUllbmKwthWNxfpqUWO4UEd8r0NMc95j5tNaFA=  \n",
       "3  azrDmMUllbmKwthWNxfpqUWO4UEd8r0NMc95j5tNaFA=  \n",
       "4  cUdjbM2RJcB7/4KX3NdHpQnyyDtBq4l5+rAK3SWjpPw=  "
      ]
     },
     "execution_count": 3,
     "metadata": {},
     "output_type": "execute_result"
    }
   ],
   "source": [
    "task_1.head()"
   ]
  },
  {
   "cell_type": "code",
   "execution_count": 4,
   "metadata": {},
   "outputs": [
    {
     "ename": "NameError",
     "evalue": "name 'task_two' is not defined",
     "output_type": "error",
     "traceback": [
      "\u001b[0;31m---------------------------------------------------------------------------\u001b[0m",
      "\u001b[0;31mNameError\u001b[0m                                 Traceback (most recent call last)",
      "\u001b[0;32m<ipython-input-4-627a60ba2bb6>\u001b[0m in \u001b[0;36m<module>\u001b[0;34m()\u001b[0m\n\u001b[0;32m----> 1\u001b[0;31m \u001b[0mtask_two\u001b[0m\u001b[0;34m.\u001b[0m\u001b[0mdrop\u001b[0m\u001b[0;34m(\u001b[0m\u001b[0;34m[\u001b[0m\u001b[0;34m'missing_info'\u001b[0m\u001b[0;34m,\u001b[0m \u001b[0;34m'user'\u001b[0m\u001b[0;34m]\u001b[0m\u001b[0;34m,\u001b[0m \u001b[0maxis\u001b[0m\u001b[0;34m=\u001b[0m\u001b[0;36m1\u001b[0m\u001b[0;34m)\u001b[0m\u001b[0;34m\u001b[0m\u001b[0;34m\u001b[0m\u001b[0m\n\u001b[0m",
      "\u001b[0;31mNameError\u001b[0m: name 'task_two' is not defined"
     ]
    }
   ],
   "source": [
    "task_two.drop(['missing_info', 'user'], axis=1)"
   ]
  },
  {
   "cell_type": "code",
   "execution_count": null,
   "metadata": {},
   "outputs": [],
   "source": [
    "job_task=task_two.groupby([\"job_id\",\"priority\"]).size().reset_index(name=\"tasks\")"
   ]
  },
  {
   "cell_type": "code",
   "execution_count": null,
   "metadata": {},
   "outputs": [],
   "source": [
    "job_task"
   ]
  },
  {
   "cell_type": "code",
   "execution_count": null,
   "metadata": {},
   "outputs": [],
   "source": [
    "% matplotlib inline"
   ]
  },
  {
   "cell_type": "code",
   "execution_count": null,
   "metadata": {},
   "outputs": [],
   "source": [
    "ypos=np.arange(len(job_task['job_id']))"
   ]
  },
  {
   "cell_type": "code",
   "execution_count": null,
   "metadata": {},
   "outputs": [],
   "source": [
    "ypos"
   ]
  },
  {
   "cell_type": "code",
   "execution_count": null,
   "metadata": {},
   "outputs": [],
   "source": [
    "plt.bar(ypos,job_task['tasks'],label=\"freq\")"
   ]
  },
  {
   "cell_type": "code",
   "execution_count": null,
   "metadata": {},
   "outputs": [],
   "source": [
    "job_task.loc[job_task['tasks'].idxmax()]"
   ]
  },
  {
   "cell_type": "code",
   "execution_count": null,
   "metadata": {},
   "outputs": [],
   "source": [
    "df=job_task.drop([ 'tasks'], axis=1)"
   ]
  },
  {
   "cell_type": "code",
   "execution_count": null,
   "metadata": {},
   "outputs": [],
   "source": [
    "df"
   ]
  },
  {
   "cell_type": "code",
   "execution_count": null,
   "metadata": {},
   "outputs": [],
   "source": [
    "df.drop_duplicates(subset =\"job_id\", \n",
    "                     keep = False, inplace = True)"
   ]
  },
  {
   "cell_type": "code",
   "execution_count": null,
   "metadata": {},
   "outputs": [],
   "source": [
    "df"
   ]
  },
  {
   "cell_type": "code",
   "execution_count": null,
   "metadata": {},
   "outputs": [],
   "source": [
    "job_priority=df.groupby([\"priority\"]).size().reset_index(name=\"jobs\")"
   ]
  },
  {
   "cell_type": "code",
   "execution_count": null,
   "metadata": {},
   "outputs": [],
   "source": [
    "job_priority"
   ]
  },
  {
   "cell_type": "code",
   "execution_count": null,
   "metadata": {},
   "outputs": [],
   "source": [
    "df.loc[df['priority'] == 11]"
   ]
  },
  {
   "cell_type": "code",
   "execution_count": null,
   "metadata": {},
   "outputs": [],
   "source": [
    "yposi=np.arange(len(job_priority['priority']))\n",
    "xposi=np.arange(len(job_priority['jobs']))\n"
   ]
  },
  {
   "cell_type": "code",
   "execution_count": null,
   "metadata": {},
   "outputs": [],
   "source": [
    "plt.bar(yposi,job_priority['jobs'])"
   ]
  },
  {
   "cell_type": "code",
   "execution_count": null,
   "metadata": {},
   "outputs": [],
   "source": [
    "s=(job_priority['priority'], job_priority['jobs'])"
   ]
  },
  {
   "cell_type": "code",
   "execution_count": null,
   "metadata": {},
   "outputs": [],
   "source": [
    "s"
   ]
  },
  {
   "cell_type": "code",
   "execution_count": null,
   "metadata": {},
   "outputs": [],
   "source": [
    "usage = job_priority['jobs']\n",
    "labels = job_priority['priority']\n",
    "# Generating the y positions. Later, we'll use them to replace them with labels.\n",
    "y_positions = range(len(labels))\n",
    "\n",
    "# Creating our bar plot\n",
    "plt.bar(y_positions, usage)\n",
    "plt.xticks(y_positions, labels)\n",
    "plt.ylabel(\"jobs\")\n",
    "plt.title(\"jobs per priority\")\n",
    "plt.show()"
   ]
  },
  {
   "cell_type": "code",
   "execution_count": null,
   "metadata": {},
   "outputs": [],
   "source": []
  }
 ],
 "metadata": {
  "kernelspec": {
   "display_name": "Python 3",
   "language": "python",
   "name": "python3"
  },
  "language_info": {
   "codemirror_mode": {
    "name": "ipython",
    "version": 3
   },
   "file_extension": ".py",
   "mimetype": "text/x-python",
   "name": "python",
   "nbconvert_exporter": "python",
   "pygments_lexer": "ipython3",
   "version": "3.6.7"
  }
 },
 "nbformat": 4,
 "nbformat_minor": 2
}
